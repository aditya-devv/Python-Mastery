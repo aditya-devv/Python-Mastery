{
 "cells": [
  {
   "cell_type": "code",
   "execution_count": null,
   "metadata": {},
   "outputs": [],
   "source": [
    "import numpy as np\n",
    "\n",
    "a = np.array([9,8,7,6,5])\n",
    "print(a)\n",
    "print()\n",
    "for i in a:\n",
    "    print(i)"
   ]
  },
  {
   "cell_type": "code",
   "execution_count": null,
   "metadata": {},
   "outputs": [],
   "source": [
    "a = np.array([[1,2,3,4,5],[6,7,8,9,0]])\n",
    "print(a)\n",
    "\n",
    "print()\n",
    "\n",
    "for i in a:\n",
    "    print(a)\n",
    "\n",
    "print()\n",
    "\n",
    "for j in a:\n",
    "    for k in j:\n",
    "        print(k)"
   ]
  },
  {
   "cell_type": "code",
   "execution_count": null,
   "metadata": {},
   "outputs": [],
   "source": [
    "a = np.array([[[1,2,3,4,5],[6,7,8,9,0],[10,11,12,13,14]]])\n",
    "print(a)\n",
    "\n",
    "print()\n",
    "\n",
    "for i in a:\n",
    "    for j in i:\n",
    "        for k in j:\n",
    "            print(k)"
   ]
  },
  {
   "cell_type": "code",
   "execution_count": null,
   "metadata": {},
   "outputs": [],
   "source": [
    "a = np.array([[[1,2,3,4,5],[6,7,8,9,0],[10,11,12,13,14]]])\n",
    "\n",
    "for i in np.nditer(a): #replace n for loops with this for iterating over n dimensions\n",
    "    print(i)\n",
    "    \n",
    "for j in np.nditer(a,flags=[\"buffered\"],op_dtypes=['S']):\n",
    "    print(j)"
   ]
  },
  {
   "cell_type": "code",
   "execution_count": 12,
   "metadata": {},
   "outputs": [
    {
     "name": "stdout",
     "output_type": "stream",
     "text": [
      "(0, 0, 0) 1\n",
      "(0, 0, 1) 2\n",
      "(0, 0, 2) 3\n",
      "(0, 0, 3) 4\n",
      "(0, 0, 4) 5\n",
      "(0, 1, 0) 6\n",
      "(0, 1, 1) 7\n",
      "(0, 1, 2) 8\n",
      "(0, 1, 3) 9\n",
      "(0, 1, 4) 0\n",
      "(0, 2, 0) 10\n",
      "(0, 2, 1) 11\n",
      "(0, 2, 2) 12\n",
      "(0, 2, 3) 13\n",
      "(0, 2, 4) 14\n"
     ]
    }
   ],
   "source": [
    "a = np.array([[[1,2,3,4,5],[6,7,8,9,0],[10,11,12,13,14]]])\n",
    "\n",
    "for i,d in np.ndenumerate(a): #replace n for loops with this for iterating over n dimensions\n",
    "    print(i,d)"
   ]
  }
 ],
 "metadata": {
  "kernelspec": {
   "display_name": "Python 3",
   "language": "python",
   "name": "python3"
  },
  "language_info": {
   "codemirror_mode": {
    "name": "ipython",
    "version": 3
   },
   "file_extension": ".py",
   "mimetype": "text/x-python",
   "name": "python",
   "nbconvert_exporter": "python",
   "pygments_lexer": "ipython3",
   "version": "3.13.0"
  }
 },
 "nbformat": 4,
 "nbformat_minor": 2
}
