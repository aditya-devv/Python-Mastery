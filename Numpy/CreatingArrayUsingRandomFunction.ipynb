{
 "cells": [
  {
   "cell_type": "code",
   "execution_count": null,
   "metadata": {},
   "outputs": [],
   "source": [
    "import numpy as np\n",
    "\n",
    "arr1 = np.random.rand(4)  #n random numbers between 0 and 1 of 1 dimension where n = no of columns\n",
    "print(arr1)\n",
    "\n",
    "print()\n",
    "\n",
    "arr2 = np.random.rand(2,5)  #n random numbers between 0 and 1 of 2 dimension where n =  no of columns\n",
    "print(arr2) #\n",
    "\n",
    "print()\n",
    "\n",
    "arr3 = np.random.rand(2,3,4)  #n random numbers between 0 and 1 of 3 dimension where n =  no of columns\n",
    "print(arr3)"
   ]
  },
  {
   "cell_type": "code",
   "execution_count": null,
   "metadata": {},
   "outputs": [],
   "source": [
    "arr4 = np.random.randn(4) #n random numbers close to zero ( +ve or -ve) of 1 dimensions where n= no fo columns\n",
    "print(arr4)\n",
    "\n",
    "print()\n",
    "\n",
    "arr5 = np.random.randn(2,5)  #n random numbers close to zero ( +ve or -ve) of 2 dimensions where n= no fo columns\n",
    "print(arr5)\n",
    "\n",
    "print()\n",
    "\n",
    "arr6 = np.random.randn(2,3,4) #n random numbers close to zero ( +ve or -ve) of 3 dimensions where n= no fo columns\n",
    "print(arr6)"
   ]
  },
  {
   "cell_type": "code",
   "execution_count": null,
   "metadata": {},
   "outputs": [],
   "source": [
    "arr7 = np.random.ranf(4)   #n random numbers . returns an array of specified shape and fills it with random float in half open interval\n",
    "print(arr7)\n"
   ]
  },
  {
   "cell_type": "code",
   "execution_count": null,
   "metadata": {},
   "outputs": [],
   "source": [
    "arr8 = np.random.randint(0,9,12) # syntax : arr8 = np.random.randint(mix,max,total_no_of_values). repetitions allowed\n",
    "print(arr8)"
   ]
  },
  {
   "cell_type": "code",
   "execution_count": null,
   "metadata": {},
   "outputs": [],
   "source": [
    "arr1 = np.random.random((2,5)) #range is 0 to 1 in float, 2 stands for rows and 5 stands for columns\n",
    "print(arr1)\n",
    "print()\n",
    "\n",
    "arr2 = np.random.default_rng() #random values between 0 and 1 in float \n",
    "b = arr2.random((3,4)) # 3 stands for rows and 4 stands for columns\n",
    "print(b) "
   ]
  },
  {
   "cell_type": "code",
   "execution_count": 15,
   "metadata": {},
   "outputs": [
    {
     "name": "stdout",
     "output_type": "stream",
     "text": [
      "[[1 9 2 2]\n",
      " [2 8 8 0]\n",
      " [4 2 2 4]]\n",
      "\n",
      "[[12 29 41  1]\n",
      " [16 18  5  2]\n",
      " [28 33 29 29]]\n"
     ]
    }
   ],
   "source": [
    "a = np.random.randint(10,size=(3,4))\n",
    "print(a)\n",
    "print()\n",
    "b = np.random.default_rng()\n",
    "c = b.integers(42, size=(3,4))\n",
    "print(c)"
   ]
  }
 ],
 "metadata": {
  "kernelspec": {
   "display_name": "Python 3",
   "language": "python",
   "name": "python3"
  },
  "language_info": {
   "codemirror_mode": {
    "name": "ipython",
    "version": 3
   },
   "file_extension": ".py",
   "mimetype": "text/x-python",
   "name": "python",
   "nbconvert_exporter": "python",
   "pygments_lexer": "ipython3",
   "version": "3.13.0"
  }
 },
 "nbformat": 4,
 "nbformat_minor": 2
}
