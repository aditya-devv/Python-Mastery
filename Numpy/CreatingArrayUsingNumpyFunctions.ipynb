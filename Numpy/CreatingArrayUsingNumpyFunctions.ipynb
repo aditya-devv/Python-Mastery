{
 "cells": [
  {
   "cell_type": "code",
   "execution_count": 1,
   "metadata": {},
   "outputs": [
    {
     "name": "stdout",
     "output_type": "stream",
     "text": [
      "[0. 0. 0. 0.]\n",
      "\n",
      "[[0. 0. 0. 0.]\n",
      " [0. 0. 0. 0.]\n",
      " [0. 0. 0. 0.]]\n"
     ]
    }
   ],
   "source": [
    "import numpy as np\n",
    "\n",
    "arr1 = np.zeros(4) # A single row with 4 columns filled with zeros completely\n",
    "print(arr1)\n",
    "\n",
    "print()\n",
    "\n",
    "arr2 = np.zeros((3,4)) #three rows with 4 columns each filled with zeros completely\n",
    "print(arr2)"
   ]
  },
  {
   "cell_type": "code",
   "execution_count": 2,
   "metadata": {},
   "outputs": [
    {
     "name": "stdout",
     "output_type": "stream",
     "text": [
      "[1. 1. 1. 1.]\n",
      "\n",
      "[[1. 1. 1. 1.]\n",
      " [1. 1. 1. 1.]\n",
      " [1. 1. 1. 1.]]\n",
      "\n",
      "[1. 1. 1. 1.]\n",
      "\n",
      "[[1. 1. 1. 1.]\n",
      " [1. 1. 1. 1.]\n",
      " [1. 1. 1. 1.]]\n"
     ]
    }
   ],
   "source": [
    "arr3 = np.ones(4)  # A single row with 4 columns filled with ones completely\n",
    "print(arr3)\n",
    "\n",
    "print()\n",
    "\n",
    "arr4 = np.ones((3,4))   #three rows with 4 columns each filled with ones completely\n",
    "print(arr4)\n",
    "\n",
    "print()\n",
    "\n",
    "arr5 = np.empty(4)      # A single row with 4 columns filled with ones completely\n",
    "print(arr5)\n",
    "\n",
    "print()\n",
    "\n",
    "arr6 = np.empty((3,4))      #three rows with 4 columns each filled with ones completely\n",
    "print(arr6) "
   ]
  },
  {
   "cell_type": "code",
   "execution_count": 3,
   "metadata": {},
   "outputs": [
    {
     "name": "stdout",
     "output_type": "stream",
     "text": [
      "[0 1 2 3]\n"
     ]
    }
   ],
   "source": [
    "arr7 = np.arange(4)   #counting from zero excludes the number given\n",
    "print(arr7)"
   ]
  },
  {
   "cell_type": "code",
   "execution_count": 4,
   "metadata": {},
   "outputs": [
    {
     "name": "stdout",
     "output_type": "stream",
     "text": [
      "[[1. 0. 0. 0.]\n",
      " [0. 1. 0. 0.]\n",
      " [0. 0. 1. 0.]\n",
      " [0. 0. 0. 1.]]\n",
      "2\n",
      "\n",
      "[[1. 0. 0. 0. 0.]\n",
      " [0. 1. 0. 0. 0.]\n",
      " [0. 0. 1. 0. 0.]]\n"
     ]
    }
   ],
   "source": [
    "arr8 = np.eye(4)  #prints n numbers of 1s in diagonal representation with n by n rows and columns\n",
    "print(arr8)\n",
    "print(arr8.ndim)  \n",
    "\n",
    "print()\n",
    "\n",
    "arr9 = np.eye(3,5)      #prints n numbers of 1s in diagonal representation with custom rows and columns\n",
    "print(arr9)"
   ]
  },
  {
   "cell_type": "code",
   "execution_count": 5,
   "metadata": {},
   "outputs": [
    {
     "name": "stdout",
     "output_type": "stream",
     "text": [
      "[ 1.    3.25  5.5   7.75 10.  ]\n"
     ]
    }
   ],
   "source": [
    "arr10 = np.linspace(1,10,num=5)  #prints num numbers between the range with a fixed diff between every number\n",
    "print(arr10)"
   ]
  }
 ],
 "metadata": {
  "kernelspec": {
   "display_name": "Python 3",
   "language": "python",
   "name": "python3"
  },
  "language_info": {
   "codemirror_mode": {
    "name": "ipython",
    "version": 3
   },
   "file_extension": ".py",
   "mimetype": "text/x-python",
   "name": "python",
   "nbconvert_exporter": "python",
   "pygments_lexer": "ipython3",
   "version": "3.13.0"
  }
 },
 "nbformat": 4,
 "nbformat_minor": 2
}
