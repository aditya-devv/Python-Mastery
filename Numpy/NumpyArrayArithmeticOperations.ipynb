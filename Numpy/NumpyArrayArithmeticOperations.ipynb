{
 "cells": [
  {
   "cell_type": "code",
   "execution_count": null,
   "metadata": {},
   "outputs": [],
   "source": [
    "import numpy as np\n",
    "\n",
    "a = np.array([1,2,3,4])\n",
    "b = np.array([5,6,7,8])\n",
    "\n",
    "print(np.add(a,b))\n",
    "print(np.subtract(a,b))\n",
    "print(np.multiply(a,b))\n",
    "print(np.divide(b,a))\n",
    "print(np.mod(b,a))\n",
    "print(np.power(a,b))\n",
    "print(np.reciprocal(a))"
   ]
  },
  {
   "cell_type": "code",
   "execution_count": 6,
   "metadata": {},
   "outputs": [
    {
     "name": "stdout",
     "output_type": "stream",
     "text": [
      "[[ 6  8 10 12]\n",
      " [ 7  9 11 13]]\n",
      "[[-4 -4 -4 -4]\n",
      " [ 5  5  5  5]]\n",
      "[[ 5 12 21 32]\n",
      " [ 6 14 24 36]]\n",
      "[[5.         3.         2.33333333 2.        ]\n",
      " [0.16666667 0.28571429 0.375      0.44444444]]\n",
      "[[0 0 1 0]\n",
      " [1 2 3 4]]\n",
      "[[    1    64  2187 65536]\n",
      " [    6    49   512  6561]]\n",
      "[[1 0 0 0]\n",
      " [0 0 0 0]]\n",
      "[[0 0 0 0]\n",
      " [1 0 0 0]]\n"
     ]
    }
   ],
   "source": [
    "a = np.array([[1,2,3,4],[6,7,8,9]])\n",
    "b = np.array([[5,6,7,8],[1,2,3,4]])\n",
    "\n",
    "print(np.add(a,b))\n",
    "print(np.subtract(a,b))\n",
    "print(np.multiply(a,b))\n",
    "print(np.divide(b,a))\n",
    "print(np.mod(b,a))\n",
    "print(np.power(a,b))\n",
    "print(np.reciprocal(a))\n",
    "print(np.reciprocal(b))\n"
   ]
  }
 ],
 "metadata": {
  "kernelspec": {
   "display_name": "Python 3",
   "language": "python",
   "name": "python3"
  },
  "language_info": {
   "codemirror_mode": {
    "name": "ipython",
    "version": 3
   },
   "file_extension": ".py",
   "mimetype": "text/x-python",
   "name": "python",
   "nbconvert_exporter": "python",
   "pygments_lexer": "ipython3",
   "version": "3.13.0"
  }
 },
 "nbformat": 4,
 "nbformat_minor": 2
}
