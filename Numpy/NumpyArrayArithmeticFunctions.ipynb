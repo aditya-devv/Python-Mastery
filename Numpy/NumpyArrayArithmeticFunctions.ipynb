{
 "cells": [
  {
   "cell_type": "code",
   "execution_count": 6,
   "metadata": {},
   "outputs": [
    {
     "name": "stdout",
     "output_type": "stream",
     "text": [
      "1\n",
      "5\n",
      "0\n",
      "4\n",
      "[1.         1.41421356 1.73205081 2.         2.23606798]\n",
      "[ 0.84147098  0.90929743  0.14112001 -0.7568025  -0.95892427]\n",
      "[ 0.54030231 -0.41614684 -0.9899925  -0.65364362  0.28366219]\n",
      "[ 1  3  6 10 15]\n",
      "85\n",
      "[[ 1  2  3  4]\n",
      " [ 5 76 12 45]]\n",
      "bool\n",
      "[ True  True False]\n",
      "\n",
      "bool\n",
      "[False False  True]\n",
      "\n"
     ]
    },
    {
     "ename": "ValueError",
     "evalue": "The truth value of an array with more than one element is ambiguous. Use a.any() or a.all()",
     "output_type": "error",
     "traceback": [
      "\u001b[1;31m---------------------------------------------------------------------------\u001b[0m",
      "\u001b[1;31mValueError\u001b[0m                                Traceback (most recent call last)",
      "Cell \u001b[1;32mIn[6], line 27\u001b[0m\n\u001b[0;32m     25\u001b[0m \u001b[38;5;28mprint\u001b[39m(z)\n\u001b[0;32m     26\u001b[0m \u001b[38;5;28mprint\u001b[39m()\n\u001b[1;32m---> 27\u001b[0m g \u001b[38;5;241m=\u001b[39m \u001b[43mnp\u001b[49m\u001b[38;5;241;43m.\u001b[39;49m\u001b[43mvectorize\u001b[49m\u001b[43m(\u001b[49m\u001b[43me\u001b[49m\u001b[43m)\u001b[49m\n\u001b[0;32m     28\u001b[0m \u001b[38;5;28mprint\u001b[39m(g)\n",
      "File \u001b[1;32mc:\\Users\\adity\\AppData\\Local\\Programs\\Python\\Python313\\Lib\\site-packages\\numpy\\lib\\_function_base_impl.py:2386\u001b[0m, in \u001b[0;36mvectorize.__init__\u001b[1;34m(self, pyfunc, otypes, doc, excluded, cache, signature)\u001b[0m\n\u001b[0;32m   2383\u001b[0m \u001b[38;5;28;01mdef\u001b[39;00m \u001b[38;5;21m__init__\u001b[39m(\u001b[38;5;28mself\u001b[39m, pyfunc\u001b[38;5;241m=\u001b[39mnp\u001b[38;5;241m.\u001b[39m_NoValue, otypes\u001b[38;5;241m=\u001b[39m\u001b[38;5;28;01mNone\u001b[39;00m, doc\u001b[38;5;241m=\u001b[39m\u001b[38;5;28;01mNone\u001b[39;00m,\n\u001b[0;32m   2384\u001b[0m              excluded\u001b[38;5;241m=\u001b[39m\u001b[38;5;28;01mNone\u001b[39;00m, cache\u001b[38;5;241m=\u001b[39m\u001b[38;5;28;01mFalse\u001b[39;00m, signature\u001b[38;5;241m=\u001b[39m\u001b[38;5;28;01mNone\u001b[39;00m):\n\u001b[1;32m-> 2386\u001b[0m     \u001b[38;5;28;01mif\u001b[39;00m (\u001b[43mpyfunc\u001b[49m\u001b[43m \u001b[49m\u001b[38;5;241;43m!=\u001b[39;49m\u001b[43m \u001b[49m\u001b[43mnp\u001b[49m\u001b[38;5;241;43m.\u001b[39;49m\u001b[43m_NoValue\u001b[49m) \u001b[38;5;129;01mand\u001b[39;00m (\u001b[38;5;129;01mnot\u001b[39;00m \u001b[38;5;28mcallable\u001b[39m(pyfunc)):\n\u001b[0;32m   2387\u001b[0m         \u001b[38;5;66;03m#Splitting the error message to keep\u001b[39;00m\n\u001b[0;32m   2388\u001b[0m         \u001b[38;5;66;03m#the length below 79 characters.\u001b[39;00m\n\u001b[0;32m   2389\u001b[0m         part1 \u001b[38;5;241m=\u001b[39m \u001b[38;5;124m\"\u001b[39m\u001b[38;5;124mWhen used as a decorator, \u001b[39m\u001b[38;5;124m\"\u001b[39m\n\u001b[0;32m   2390\u001b[0m         part2 \u001b[38;5;241m=\u001b[39m \u001b[38;5;124m\"\u001b[39m\u001b[38;5;124monly accepts keyword arguments.\u001b[39m\u001b[38;5;124m\"\u001b[39m\n",
      "\u001b[1;31mValueError\u001b[0m: The truth value of an array with more than one element is ambiguous. Use a.any() or a.all()"
     ]
    }
   ],
   "source": [
    "import numpy as np\n",
    "\n",
    "a = np.array([1,2,3,4,5])\n",
    "b = np.array([3,4,5,6,7])\n",
    "c = np.array([[1,2,-3,-4],[-5,-76,12,-45]])\n",
    "d = np.array([True,True,False])\n",
    "\n",
    "\n",
    "print(np.min(a))\n",
    "print(np.max(a))\n",
    "print(np.argmin(a))     #returns index of the minimum element of the array\n",
    "print(np.argmax(a))     #returns index of the minimum element of the array\n",
    "print(np.sqrt(a))\n",
    "print(np.sin(a))\n",
    "print(np.cos(a))\n",
    "print(np.cumsum(a)) #cumulative sum of elements\n",
    "print(np.matmul(a,b))\n",
    "print(np.absolute(c))\n",
    "print(d.dtype)\n",
    "print(d)\n",
    "print()\n",
    "z = np.logical_not(d)\n",
    "print(z.dtype)\n",
    "print(z)\n",
    "print()"
   ]
  }
 ],
 "metadata": {
  "kernelspec": {
   "display_name": "Python 3",
   "language": "python",
   "name": "python3"
  },
  "language_info": {
   "codemirror_mode": {
    "name": "ipython",
    "version": 3
   },
   "file_extension": ".py",
   "mimetype": "text/x-python",
   "name": "python",
   "nbconvert_exporter": "python",
   "pygments_lexer": "ipython3",
   "version": "3.13.0"
  }
 },
 "nbformat": 4,
 "nbformat_minor": 2
}
