{
 "cells": [
  {
   "cell_type": "code",
   "execution_count": null,
   "metadata": {},
   "outputs": [],
   "source": [
    "import numpy as np\n",
    "\n",
    "a = np.array([1,2,3,4])\n",
    "b = np.array([5,6,7,8])\n",
    "\n",
    "c = np.concatenate((a,b)) #makes a new array in the same dimension\n",
    "print(c)\n",
    "print()\n",
    "d = np.stack((a,b)) #increases the dimension by 1 on merging arrays\n",
    "print(d)\n",
    "print()\n",
    "e = np.hstack((a,b)) #merging along rows\n",
    "print(e)\n",
    "print()\n",
    "f = np.vstack((a,b)) #merging along columns\n",
    "print(f)\n",
    "g = np.dstack((a,b)) #merging along height\n",
    "print(g)"
   ]
  },
  {
   "cell_type": "code",
   "execution_count": null,
   "metadata": {},
   "outputs": [],
   "source": [
    "a = np.array([[1,2],[3,4]])\n",
    "b = np.array([[5,6],[7,8]])\n",
    "\n",
    "c = np.concatenate((a,b))\n",
    "d = np.concatenate((a,b),axis=1) \n",
    "print(c)\n",
    "print()\n",
    "print(d)\n",
    "print()\n",
    "e = np.stack((a,b))\n",
    "f = np.stack((a,b),axis=1)\n",
    "print(e)\n",
    "print()\n",
    "print(f)"
   ]
  },
  {
   "cell_type": "code",
   "execution_count": null,
   "metadata": {},
   "outputs": [],
   "source": [
    "a = np.array([1,2,3,4,5,6])\n",
    "print(a)\n",
    "print()\n",
    "b = np.array_split(a,4) #splits into n no of items or elements and store them in list\n",
    "print(b)\n",
    "print()\n",
    "print(b[1])\n",
    "print()\n"
   ]
  },
  {
   "cell_type": "code",
   "execution_count": 25,
   "metadata": {},
   "outputs": [
    {
     "name": "stdout",
     "output_type": "stream",
     "text": [
      "[[1 2]\n",
      " [3 4]]\n",
      "\n",
      "[array([[1, 2]]), array([[3, 4]]), array([], shape=(0, 2), dtype=int64), array([], shape=(0, 2), dtype=int64)]\n",
      "\n",
      "[]\n",
      "\n",
      "[array([[1],\n",
      "       [3]]), array([[2],\n",
      "       [4]]), array([], shape=(2, 0), dtype=int64), array([], shape=(2, 0), dtype=int64)]\n",
      "\n"
     ]
    }
   ],
   "source": [
    "a = np.array([[1,2],[3,4]])\n",
    "print(a)\n",
    "print()\n",
    "b = np.array_split(a,4)\n",
    "print(b)\n",
    "print()\n",
    "print(b[2])\n",
    "print()\n",
    "c = np.array_split(a,4,axis=1)\n",
    "print(c)\n",
    "print()"
   ]
  }
 ],
 "metadata": {
  "kernelspec": {
   "display_name": "Python 3",
   "language": "python",
   "name": "python3"
  },
  "language_info": {
   "codemirror_mode": {
    "name": "ipython",
    "version": 3
   },
   "file_extension": ".py",
   "mimetype": "text/x-python",
   "name": "python",
   "nbconvert_exporter": "python",
   "pygments_lexer": "ipython3",
   "version": "3.13.0"
  }
 },
 "nbformat": 4,
 "nbformat_minor": 2
}
