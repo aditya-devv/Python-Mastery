{
 "cells": [
  {
   "cell_type": "code",
   "execution_count": null,
   "metadata": {},
   "outputs": [],
   "source": [
    "import numpy as np\n",
    "\n",
    "a = np.matrix([[1,2,3],[5,6,7]])\n",
    "b = np.matrix([[2,5,7],[9,6,3]])\n",
    "print(a)\n",
    "print()\n",
    "print(b)\n",
    "print()\n",
    "print(type(a))\n",
    "print(type(b))\n",
    "print(a+b)\n",
    "c = np.matrix([[1,2],[5,6]]) #creating matrices\n",
    "d = np.matrix([[2,5],[9,6]])\n",
    "print(c)\n",
    "print()\n",
    "print(d)\n",
    "print()\n",
    "print(c*d) #multiplying matrices remember to match their broadcasting\n",
    "print()\n",
    "print(c.dot(d))"
   ]
  },
  {
   "cell_type": "code",
   "execution_count": null,
   "metadata": {},
   "outputs": [],
   "source": [
    "a = np.array([[1,2,3],[4,5,6]])\n",
    "print(a)\n",
    "print(type(a))\n",
    "print()\n",
    "print(a*a) #multiplying arrays"
   ]
  }
 ],
 "metadata": {
  "kernelspec": {
   "display_name": "Python 3",
   "language": "python",
   "name": "python3"
  },
  "language_info": {
   "codemirror_mode": {
    "name": "ipython",
    "version": 3
   },
   "file_extension": ".py",
   "mimetype": "text/x-python",
   "name": "python",
   "nbconvert_exporter": "python",
   "pygments_lexer": "ipython3",
   "version": "3.13.0"
  }
 },
 "nbformat": 4,
 "nbformat_minor": 2
}
