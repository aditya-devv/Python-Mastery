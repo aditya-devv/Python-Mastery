{
 "cells": [
  {
   "cell_type": "code",
   "execution_count": null,
   "metadata": {},
   "outputs": [],
   "source": [
    "import numpy as np                                          #importing numpy\n",
    "\n",
    "x = np.array([1,2,3,4])                                     #Creating a 1 dimensional array in numpy\n",
    "print(x)                                                     #printing array\n",
    "print(type(x))                                               #type of array\n",
    "print(x.ndim)                                                #dimension of array\n",
    "\n",
    "\n",
    "y = np.array([[1,2,3,4]])                                   #Creating a 2 dimensional array in numpy\n",
    "print(y)                        \n",
    "print(type(y))                  \n",
    "print(y.ndim)\n",
    "\n",
    "\n",
    "a = np.array([[1,2,3,4,5],[6,7,8,9,0]])                     #Creating a 2 dimensional array in numpy\n",
    "print(a)\n",
    "print(type(a))\n",
    "print(a.ndim)\n",
    "\n",
    "\n",
    "z = np.array([[[1,2,3,4]]])                                 #Creating a 3 dimensional array in numpy\n",
    "print(z)                        \n",
    "print(type(z))                  \n",
    "print(z.ndim)\n",
    "\n",
    "\n",
    "b = np.array([[[1,2,3,4,5],[6,7,8,9,0],[1,3,5,7,9]]])         #Creating a 3 dimensional array in numpy\n",
    "print(b)                        \n",
    "print(type(b))                  \n",
    "print(b.ndim)\n",
    "\n",
    "\n",
    "c = np.array([1,2,3,4,5],ndmin = 10)\n",
    "print(c)\n",
    "print(c.ndim)"
   ]
  }
 ],
 "metadata": {
  "kernelspec": {
   "display_name": "Python 3",
   "language": "python",
   "name": "python3"
  },
  "language_info": {
   "codemirror_mode": {
    "name": "ipython",
    "version": 3
   },
   "file_extension": ".py",
   "mimetype": "text/x-python",
   "name": "python",
   "nbconvert_exporter": "python",
   "pygments_lexer": "ipython3",
   "version": "3.13.0"
  }
 },
 "nbformat": 4,
 "nbformat_minor": 2
}
