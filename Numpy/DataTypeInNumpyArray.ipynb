{
 "cells": [
  {
   "cell_type": "code",
   "execution_count": null,
   "metadata": {},
   "outputs": [],
   "source": [
    "import numpy as np\n",
    "\n",
    "var = np.array([1,2,3,4,5,6,12,87,9878])\n",
    "print(f\"Data Type: {var.dtype}\")  #data type of the array\n"
   ]
  },
  {
   "cell_type": "code",
   "execution_count": null,
   "metadata": {},
   "outputs": [],
   "source": [
    "var = np.array([1.9,2.3,3.6,4.3,5.8,6.1,12.54,87.87856,9878.574656365])\n",
    "print(f\"Data Type: {var.dtype}\")"
   ]
  },
  {
   "cell_type": "code",
   "execution_count": null,
   "metadata": {},
   "outputs": [],
   "source": [
    "var = np.array([\"A\",\"S\",\"W\",\"D\"])\n",
    "print(f\"Data Type: {var.dtype}\")\n"
   ]
  },
  {
   "cell_type": "code",
   "execution_count": null,
   "metadata": {},
   "outputs": [],
   "source": [
    "var = np.array([\"A\",\"S\",\"W\",\"D\",1.9,2.3,3.6,4.3,5.8,6.1,12.54,1,2,3,4])\n",
    "print(f\"Data Type: {var.dtype}\")"
   ]
  },
  {
   "cell_type": "code",
   "execution_count": null,
   "metadata": {},
   "outputs": [],
   "source": [
    "var = np.array([1,2,3,4,5,6,12,87], dtype = np.int8)\n",
    "print(f\"Data Type: {var.dtype}\")"
   ]
  },
  {
   "cell_type": "code",
   "execution_count": null,
   "metadata": {},
   "outputs": [],
   "source": [
    "x1 = np.array([1,2,3,4,5], dtype = \"f\")\n",
    "print(f\"Data Type: {x1.dtype}\")\n",
    "print(x1)"
   ]
  },
  {
   "cell_type": "code",
   "execution_count": null,
   "metadata": {},
   "outputs": [],
   "source": [
    "x1 = np.array([1,2,3,4,5])\n",
    "x2 = np.float32(x1)\n",
    "x3 = np.int_(x2)\n",
    "print(f\"Data Type: {x1.dtype}\")\n",
    "print(f\"Data Type: {x2.dtype}\")\n",
    "print(f\"Data Type: {x3.dtype}\")\n",
    "print(x1)\n",
    "print(x2)\n",
    "print(x3)"
   ]
  },
  {
   "cell_type": "code",
   "execution_count": 12,
   "metadata": {},
   "outputs": [
    {
     "name": "stdout",
     "output_type": "stream",
     "text": [
      "[1 2 3 4]\n",
      "[1. 2. 3. 4.]\n",
      "int64\n",
      "float64\n"
     ]
    }
   ],
   "source": [
    "x1 = np.array([1,2,3,4])\n",
    "n2 = x1.astype(float)\n",
    "print(x1)\n",
    "print(n2)\n",
    "print(x1.dtype)\n",
    "print(n2.dtype)"
   ]
  }
 ],
 "metadata": {
  "kernelspec": {
   "display_name": "Python 3",
   "language": "python",
   "name": "python3"
  },
  "language_info": {
   "codemirror_mode": {
    "name": "ipython",
    "version": 3
   },
   "file_extension": ".py",
   "mimetype": "text/x-python",
   "name": "python",
   "nbconvert_exporter": "python",
   "pygments_lexer": "ipython3",
   "version": "3.13.0"
  }
 },
 "nbformat": 4,
 "nbformat_minor": 2
}
