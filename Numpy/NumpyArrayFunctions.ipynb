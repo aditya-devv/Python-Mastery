{
 "cells": [
  {
   "cell_type": "code",
   "execution_count": 10,
   "metadata": {},
   "outputs": [
    {
     "name": "stdout",
     "output_type": "stream",
     "text": [
      "(array([1, 2]),)\n",
      "\n",
      "(array([1, 2, 4, 7]),)\n"
     ]
    }
   ],
   "source": [
    "import numpy as np\n",
    "\n",
    "a = np.array([1,2,2,3,4,5,5,8,9])\n",
    "b = np.where( a==2 ) #where is used for conditional statements like a==2 returns all the indices where 2 appears\n",
    "print(b)\n",
    "print()\n",
    "c = np.where((a%2) == 0) #returns indices of numbers which satisfy the condition a%2==0\n",
    "print(c)"
   ]
  },
  {
   "cell_type": "code",
   "execution_count": 17,
   "metadata": {},
   "outputs": [
    {
     "name": "stdout",
     "output_type": "stream",
     "text": [
      "[5 7]\n",
      "[0 5]\n"
     ]
    }
   ],
   "source": [
    "d = np.searchsorted(a,[5,6]) #sorts the array and returns the index where a certain number will be entered\n",
    "print(d)\n",
    "e = np.searchsorted(a,[0,4],side=\"right\") #sorts the array and returns the index where a certain number will be entered\n",
    "print(e)"
   ]
  },
  {
   "cell_type": "code",
   "execution_count": null,
   "metadata": {},
   "outputs": [],
   "source": [
    "a = np.array([[[9,4,6],[7,3,9],[1,8,5]]])\n",
    "f = np.sort(a) #array sorting\n",
    "print(f)\n",
    "print()\n",
    "g = np.array(['a','z','g','d','v'])\n",
    "h = np.sort(g)\n",
    "print(h)"
   ]
  },
  {
   "cell_type": "code",
   "execution_count": null,
   "metadata": {},
   "outputs": [],
   "source": [
    "g = np.array(['a','z','g','d','v'])\n",
    "i = [True,False,False,True,True]\n",
    "\n",
    "z =g[i] #array filtering\n",
    "print(z)"
   ]
  },
  {
   "cell_type": "code",
   "execution_count": null,
   "metadata": {},
   "outputs": [],
   "source": [
    "a = np.array([1,2,3,4,5])\n",
    "np.random.shuffle(a) #shuffles the array and returns\n",
    "print(a)"
   ]
  },
  {
   "cell_type": "code",
   "execution_count": null,
   "metadata": {},
   "outputs": [],
   "source": [
    "a = np.array([1,2,3,4,3,2,1,4,1,3,4,3,2,1,3,1])\n",
    "b = np.unique(a, return_index=True , return_counts=True) #removes duplicates and print them , their indexes and no of duplicates in total\n",
    "print(b)\n"
   ]
  },
  {
   "cell_type": "code",
   "execution_count": null,
   "metadata": {},
   "outputs": [],
   "source": [
    "a = np.array([1,2,3,4,5,6,7,8,9])\n",
    "b = np.resize(a,(3,3)) #resizes the array from nth dimension to n+1th dimension\n",
    "print(b)\n",
    "print()\n",
    "c = b.flatten()\n",
    "print(c)\n",
    "d = b.flatten(order=\"F\")\n",
    "print(d)"
   ]
  },
  {
   "cell_type": "code",
   "execution_count": null,
   "metadata": {},
   "outputs": [],
   "source": [
    "a = np.array([1,2,3,4])\n",
    "print(a)\n",
    "print()\n",
    "b = np.insert(a, 2, 40) #insert item at a specific index in the array\n",
    "print(b)\n",
    "print()\n",
    "c = np.insert(a, (2,4), 38) #add item to multiple indexes in array\n",
    "print(c)\n",
    "print()\n",
    "d = np.insert(a, (2,4), 6.54) #adds the integer and ignore the part after decimal\n",
    "print(d)\n",
    "print()\n",
    "x = np.append(a,6.545)\n",
    "print(x)"
   ]
  },
  {
   "cell_type": "code",
   "execution_count": null,
   "metadata": {},
   "outputs": [],
   "source": [
    "a = np.array([[1,2,3],[4,5,6]])\n",
    "b = np.insert(a, 2,7, axis=0)\n",
    "print(b)\n",
    "print()\n",
    "c = np.insert(a, 2, 7, axis=1)\n",
    "print(c)\n",
    "print()\n",
    "d = np.insert(a, 1, [22,54], axis=1)\n",
    "print(d)\n",
    "print()"
   ]
  },
  {
   "cell_type": "code",
   "execution_count": null,
   "metadata": {},
   "outputs": [],
   "source": [
    "a = np.array([[1,2,3],[5,6,7]])\n",
    "print(a)\n",
    "print()\n",
    "x = np.append(a, [[34,65,17]], axis=0)\n",
    "print(x)\n"
   ]
  },
  {
   "cell_type": "code",
   "execution_count": 42,
   "metadata": {},
   "outputs": [
    {
     "name": "stdout",
     "output_type": "stream",
     "text": [
      "[1 2 3 4]\n",
      "\n",
      "[1 2 3]\n"
     ]
    }
   ],
   "source": [
    "a = np.array([1,2,3,4])\n",
    "print(a)\n",
    "print()\n",
    "x = np.delete(a, 3) #delete the item present on the specified index\n",
    "print(x)\n"
   ]
  }
 ],
 "metadata": {
  "kernelspec": {
   "display_name": "Python 3",
   "language": "python",
   "name": "python3"
  },
  "language_info": {
   "codemirror_mode": {
    "name": "ipython",
    "version": 3
   },
   "file_extension": ".py",
   "mimetype": "text/x-python",
   "name": "python",
   "nbconvert_exporter": "python",
   "pygments_lexer": "ipython3",
   "version": "3.13.0"
  }
 },
 "nbformat": 4,
 "nbformat_minor": 2
}
