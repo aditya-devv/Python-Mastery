{
 "cells": [
  {
   "cell_type": "code",
   "execution_count": null,
   "metadata": {},
   "outputs": [],
   "source": [
    "import numpy as np\n",
    "\n",
    "a = np.matrix([[1,2,3],[4,5,6]])\n",
    "print(a)\n",
    "print()\n",
    "print(np.transpose(a)) #transpose of a matrix\n",
    "print()\n",
    "print(a.T) #transpose of a matrix\n",
    "print()\n",
    "b = a.transpose()\n",
    "a[0][0] = 42\n",
    "print(b)\n",
    "print()\n",
    "print(a)"
   ]
  },
  {
   "cell_type": "code",
   "execution_count": 12,
   "metadata": {},
   "outputs": [
    {
     "name": "stdout",
     "output_type": "stream",
     "text": [
      "[[42  4]\n",
      " [ 2  5]\n",
      " [ 3  6]]\n",
      "\n",
      "[[42  2  3]\n",
      " [ 4  5  6]]\n"
     ]
    }
   ],
   "source": [
    "a = np.array([[1,2,3],[4,5,6]]) #transpose of array\n",
    "b = a.transpose()\n",
    "a[0][0] = 42\n",
    "print(b)\n",
    "print()\n",
    "print(a)"
   ]
  },
  {
   "cell_type": "code",
   "execution_count": null,
   "metadata": {},
   "outputs": [],
   "source": [
    "a = np.matrix([[1,2,3],[4,5,6]])\n",
    "print(np.swapaxes(a,0,1)) #changes rows of a matrix to columns and vice versa\n"
   ]
  },
  {
   "cell_type": "code",
   "execution_count": null,
   "metadata": {},
   "outputs": [],
   "source": [
    "a = np.matrix([[1,2],[3,4]])\n",
    "print(a)\n",
    "print()\n",
    "\n",
    "print(np.linalg.inv(a)) #inverse of a matrix"
   ]
  },
  {
   "cell_type": "code",
   "execution_count": null,
   "metadata": {},
   "outputs": [],
   "source": [
    "a = np.matrix([[1,2],[3,4]])\n",
    "print(a)\n",
    "print()\n",
    "print(np.linalg.matrix_power(a,2)) #power of the matrix where 2 means square if it was 3 then cube\n",
    "print()\n",
    "print(np.linalg.matrix_power(a,0)) #returns identity matrix\n",
    "print()\n",
    "print(np.linalg.matrix_power(a,-2)) #inverse to the power of the matrix"
   ]
  },
  {
   "cell_type": "code",
   "execution_count": null,
   "metadata": {},
   "outputs": [],
   "source": [
    "a = np.matrix([[1,2,3],[4,5,6],[7,8,9]])\n",
    "b = np.matrix([[1,2],[4,5]])\n",
    "print(a)\n",
    "print()\n",
    "print(b)\n",
    "print()\n",
    "print(np.linalg.det(a))\n",
    "print(np.linalg.det(b))\n"
   ]
  }
 ],
 "metadata": {
  "kernelspec": {
   "display_name": "Python 3",
   "language": "python",
   "name": "python3"
  },
  "language_info": {
   "codemirror_mode": {
    "name": "ipython",
    "version": 3
   },
   "file_extension": ".py",
   "mimetype": "text/x-python",
   "name": "python",
   "nbconvert_exporter": "python",
   "pygments_lexer": "ipython3",
   "version": "3.13.0"
  }
 },
 "nbformat": 4,
 "nbformat_minor": 2
}
